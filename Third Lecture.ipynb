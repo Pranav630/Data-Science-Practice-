{
 "cells": [
  {
   "cell_type": "markdown",
   "id": "87755ee9",
   "metadata": {},
   "source": [
    "# Lists"
   ]
  },
  {
   "cell_type": "code",
   "execution_count": 32,
   "id": "562f424a",
   "metadata": {},
   "outputs": [],
   "source": [
    "import pandas as pd\n",
    "import numpy as np\n",
    "import random as rd"
   ]
  },
  {
   "cell_type": "code",
   "execution_count": null,
   "id": "74a5e4b1",
   "metadata": {},
   "outputs": [],
   "source": []
  },
  {
   "cell_type": "code",
   "execution_count": 33,
   "id": "e60a6596",
   "metadata": {},
   "outputs": [],
   "source": [
    "fruit=['apples', 'oranges', 'bananas']\n",
    "#fruit=['a','b','c']"
   ]
  },
  {
   "cell_type": "code",
   "execution_count": 36,
   "id": "40eb5b99",
   "metadata": {},
   "outputs": [
    {
     "data": {
      "text/plain": [
       "'bananas'"
      ]
     },
     "execution_count": 36,
     "metadata": {},
     "output_type": "execute_result"
    }
   ],
   "source": [
    "fruit[2]"
   ]
  },
  {
   "cell_type": "code",
   "execution_count": null,
   "id": "12bec05a",
   "metadata": {},
   "outputs": [],
   "source": []
  },
  {
   "cell_type": "code",
   "execution_count": 51,
   "id": "a1da87e2",
   "metadata": {},
   "outputs": [
    {
     "name": "stdout",
     "output_type": "stream",
     "text": [
      "['z', 'b', 'c', 'd']\n"
     ]
    }
   ],
   "source": [
    "# define list\n",
    "list1 = [ 'a', 'b', 'c', 'd']\n",
    "\n",
    "# print list\n",
    "#print(list1)\n",
    "  \n",
    "# replace first value\n",
    "list1[0] = 'z'\n",
    "  \n",
    "# print list\n",
    "print(list1)"
   ]
  },
  {
   "cell_type": "code",
   "execution_count": null,
   "id": "bee5c244",
   "metadata": {},
   "outputs": [],
   "source": []
  },
  {
   "cell_type": "code",
   "execution_count": 39,
   "id": "ae05441b",
   "metadata": {},
   "outputs": [],
   "source": [
    "multi_list= [[1,2,3],[\"a\",\"b\",\"c\"]]"
   ]
  },
  {
   "cell_type": "code",
   "execution_count": 40,
   "id": "8a954e11",
   "metadata": {},
   "outputs": [
    {
     "name": "stdout",
     "output_type": "stream",
     "text": [
      "[1, 2, 3]\n"
     ]
    }
   ],
   "source": [
    "print(multi_list[0])"
   ]
  },
  {
   "cell_type": "code",
   "execution_count": 41,
   "id": "1c41dcd2",
   "metadata": {},
   "outputs": [
    {
     "name": "stdout",
     "output_type": "stream",
     "text": [
      "['a', 'b', 'c']\n"
     ]
    }
   ],
   "source": [
    "print(multi_list[1])"
   ]
  },
  {
   "cell_type": "code",
   "execution_count": 46,
   "id": "a06370a6",
   "metadata": {},
   "outputs": [
    {
     "data": {
      "text/plain": [
       "2"
      ]
     },
     "execution_count": 46,
     "metadata": {},
     "output_type": "execute_result"
    }
   ],
   "source": [
    "multi_list[0][1]"
   ]
  },
  {
   "cell_type": "markdown",
   "id": "a050dcaf",
   "metadata": {},
   "source": [
    "# Tuple"
   ]
  },
  {
   "cell_type": "code",
   "execution_count": 52,
   "id": "c0f624c0",
   "metadata": {},
   "outputs": [],
   "source": [
    "tuple1 = (10, 20, 30, 40, 50)\n",
    "tuple2=('apples', 'oranges', 'bananas')"
   ]
  },
  {
   "cell_type": "code",
   "execution_count": 53,
   "id": "91ac5edd",
   "metadata": {},
   "outputs": [
    {
     "ename": "TypeError",
     "evalue": "'tuple' object does not support item assignment",
     "output_type": "error",
     "traceback": [
      "\u001b[0;31m---------------------------------------------------------------------------\u001b[0m",
      "\u001b[0;31mTypeError\u001b[0m                                 Traceback (most recent call last)",
      "\u001b[0;32m<ipython-input-53-bfa5f056b4af>\u001b[0m in \u001b[0;36m<module>\u001b[0;34m\u001b[0m\n\u001b[0;32m----> 1\u001b[0;31m \u001b[0mtuple1\u001b[0m\u001b[0;34m[\u001b[0m\u001b[0;36m1\u001b[0m\u001b[0;34m]\u001b[0m\u001b[0;34m=\u001b[0m\u001b[0;36m100\u001b[0m\u001b[0;34m\u001b[0m\u001b[0;34m\u001b[0m\u001b[0m\n\u001b[0m",
      "\u001b[0;31mTypeError\u001b[0m: 'tuple' object does not support item assignment"
     ]
    }
   ],
   "source": [
    "tuple1[1]=100"
   ]
  },
  {
   "cell_type": "code",
   "execution_count": 50,
   "id": "6f3e1685",
   "metadata": {},
   "outputs": [
    {
     "ename": "TypeError",
     "evalue": "'tuple' object does not support item assignment",
     "output_type": "error",
     "traceback": [
      "\u001b[0;31m---------------------------------------------------------------------------\u001b[0m",
      "\u001b[0;31mTypeError\u001b[0m                                 Traceback (most recent call last)",
      "\u001b[0;32m<ipython-input-50-5e2cf0e43ec0>\u001b[0m in \u001b[0;36m<module>\u001b[0;34m\u001b[0m\n\u001b[0;32m----> 1\u001b[0;31m \u001b[0mtuple2\u001b[0m\u001b[0;34m[\u001b[0m\u001b[0;36m1\u001b[0m\u001b[0;34m]\u001b[0m\u001b[0;34m=\u001b[0m\u001b[0;34m'pineapple'\u001b[0m\u001b[0;34m\u001b[0m\u001b[0;34m\u001b[0m\u001b[0m\n\u001b[0m",
      "\u001b[0;31mTypeError\u001b[0m: 'tuple' object does not support item assignment"
     ]
    }
   ],
   "source": [
    "tuple2[1]='pineapple'"
   ]
  },
  {
   "cell_type": "markdown",
   "id": "3e7b1c92",
   "metadata": {},
   "source": [
    "## Difference between lists and tuples"
   ]
  },
  {
   "cell_type": "markdown",
   "id": "609d5efe",
   "metadata": {},
   "source": [
    "### The primary difference between tuples and lists is that tuples are immutable as opposed to lists which are mutable. Therefore, it is possible to change a list but not a tuple. The contents of a tuple cannot change once they have been created in Python due to the immutability of tuples"
   ]
  },
  {
   "cell_type": "code",
   "execution_count": 22,
   "id": "5f09637c",
   "metadata": {},
   "outputs": [
    {
     "ename": "TypeError",
     "evalue": "'tuple' object does not support item assignment",
     "output_type": "error",
     "traceback": [
      "\u001b[0;31m---------------------------------------------------------------------------\u001b[0m",
      "\u001b[0;31mTypeError\u001b[0m                                 Traceback (most recent call last)",
      "\u001b[0;32m<ipython-input-22-f671af987365>\u001b[0m in \u001b[0;36m<module>\u001b[0;34m\u001b[0m\n\u001b[1;32m      1\u001b[0m \u001b[0;31m# replace first value\u001b[0m\u001b[0;34m\u001b[0m\u001b[0;34m\u001b[0m\u001b[0;34m\u001b[0m\u001b[0m\n\u001b[0;32m----> 2\u001b[0;31m \u001b[0mtuple1\u001b[0m\u001b[0;34m[\u001b[0m\u001b[0;36m0\u001b[0m\u001b[0;34m]\u001b[0m \u001b[0;34m=\u001b[0m \u001b[0;36m1000\u001b[0m\u001b[0;34m\u001b[0m\u001b[0;34m\u001b[0m\u001b[0m\n\u001b[0m\u001b[1;32m      3\u001b[0m \u001b[0;34m\u001b[0m\u001b[0m\n\u001b[1;32m      4\u001b[0m \u001b[0;31m# print list\u001b[0m\u001b[0;34m\u001b[0m\u001b[0;34m\u001b[0m\u001b[0;34m\u001b[0m\u001b[0m\n\u001b[1;32m      5\u001b[0m \u001b[0mprint\u001b[0m\u001b[0;34m(\u001b[0m\u001b[0mtuple1\u001b[0m\u001b[0;34m)\u001b[0m\u001b[0;34m\u001b[0m\u001b[0;34m\u001b[0m\u001b[0m\n",
      "\u001b[0;31mTypeError\u001b[0m: 'tuple' object does not support item assignment"
     ]
    }
   ],
   "source": [
    "# replace first value\n",
    "tuple1[0] = 1000\n",
    "  \n",
    "# print list\n",
    "print(tuple1)"
   ]
  },
  {
   "cell_type": "markdown",
   "id": "92a80a58",
   "metadata": {},
   "source": [
    "# Dictionaries"
   ]
  },
  {
   "cell_type": "code",
   "execution_count": 12,
   "id": "c5e1925a",
   "metadata": {},
   "outputs": [],
   "source": [
    "dictionary1={'Nails':300, 'Screws':200, 'Hammer':4}"
   ]
  },
  {
   "cell_type": "code",
   "execution_count": 58,
   "id": "7610ce08",
   "metadata": {},
   "outputs": [
    {
     "name": "stdout",
     "output_type": "stream",
     "text": [
      "200\n"
     ]
    }
   ],
   "source": [
    "print(dictionary1.get('Screws'))"
   ]
  },
  {
   "cell_type": "code",
   "execution_count": 55,
   "id": "7283addc",
   "metadata": {},
   "outputs": [],
   "source": [
    "dictionary={'Book': \n",
    "            \"a written or printed work consisting of pages glued or sewn together along one side and bound in covers.\",\n",
    "           'Hammer':'a tool with a heavy metal head mounted at right angles at the end of a handle, used for jobs such as breaking things and driving in nails.'}"
   ]
  },
  {
   "cell_type": "code",
   "execution_count": 57,
   "id": "f88949d4",
   "metadata": {},
   "outputs": [
    {
     "name": "stdout",
     "output_type": "stream",
     "text": [
      "a tool with a heavy metal head mounted at right angles at the end of a handle, used for jobs such as breaking things and driving in nails.\n"
     ]
    }
   ],
   "source": [
    "print(dictionary['Hammer'])"
   ]
  },
  {
   "cell_type": "code",
   "execution_count": null,
   "id": "3e453b71",
   "metadata": {},
   "outputs": [],
   "source": []
  },
  {
   "cell_type": "markdown",
   "id": "9c329f94",
   "metadata": {},
   "source": [
    "# Updating a value in a dictionary"
   ]
  },
  {
   "cell_type": "code",
   "execution_count": 62,
   "id": "5e31dc39",
   "metadata": {},
   "outputs": [
    {
     "name": "stdout",
     "output_type": "stream",
     "text": [
      "{'brand': 'Ford', 'model': 'Mustang', 'year': 2018}\n"
     ]
    }
   ],
   "source": [
    "this_dict ={\n",
    "  \"brand\": \"Ford\",\n",
    "  \"model\": \"Mustang\",\n",
    "  \"year\": 1964\n",
    "}\n",
    "\n",
    "this_dict[\"year\"] = 2018\n",
    "\n",
    "print(this_dict)\n"
   ]
  },
  {
   "cell_type": "code",
   "execution_count": 80,
   "id": "305f7ac7",
   "metadata": {},
   "outputs": [],
   "source": [
    "this_dict[\"tires\"]=\"rubber\""
   ]
  },
  {
   "cell_type": "code",
   "execution_count": 81,
   "id": "a0170a64",
   "metadata": {},
   "outputs": [
    {
     "data": {
      "text/plain": [
       "{'brand': 'Ford', 'model': 'Mustang', 'year': 2018, 'tires': 'rubber'}"
      ]
     },
     "execution_count": 81,
     "metadata": {},
     "output_type": "execute_result"
    }
   ],
   "source": [
    "this_dict"
   ]
  },
  {
   "cell_type": "markdown",
   "id": "a5d1fb33",
   "metadata": {},
   "source": [
    "## 2 Lists into 1 dictionary"
   ]
  },
  {
   "cell_type": "code",
   "execution_count": 104,
   "id": "3736602b",
   "metadata": {},
   "outputs": [],
   "source": [
    "# fruit names are our keys\n",
    "fruit_name_list=['apple', 'orange', 'banana', 'lime', 'strawberry']\n",
    "\n",
    "# fruit colors are the values associated with the keys\n",
    "fruit_color_list=['red', 'orange', 'yellow', 'green', 'red']\n",
    "\n",
    "\n"
   ]
  },
  {
   "cell_type": "code",
   "execution_count": 105,
   "id": "bdd7a2f9",
   "metadata": {},
   "outputs": [],
   "source": [
    "#for loops\n",
    "#empty_dictionary={}\n",
    "\n",
    "#for name in fruit_name_list:\n",
    "#    for color in fruit_color_list:\n",
    "#        print(color)\n"
   ]
  },
  {
   "cell_type": "code",
   "execution_count": null,
   "id": "d5d00c7b",
   "metadata": {},
   "outputs": [],
   "source": []
  },
  {
   "cell_type": "code",
   "execution_count": 106,
   "id": "9216259a",
   "metadata": {},
   "outputs": [],
   "source": [
    "#create an empty dictionary so that we can add key value pairs\n",
    "empty_dictionary={}"
   ]
  },
  {
   "cell_type": "code",
   "execution_count": 107,
   "id": "48fa5b01",
   "metadata": {},
   "outputs": [],
   "source": [
    "\n",
    "for key in fruit_name_list:\n",
    "    for value in fruit_color_list:\n",
    "        empty_dictionary[key]=value\n",
    "        #print(fruit_color_list)\n",
    "        fruit_color_list.remove(value)\n",
    "        #print(fruit_color_list)\n",
    "        #print('  ')\n",
    "        break\n",
    "        \n",
    "        \n",
    "        \n",
    "#['red','orange', 'yellow', 'green', 'red']\n",
    "#['orange', 'yellow', 'green', 'red']\n",
    "\n",
    "#['orange', 'yellow', 'green', 'red']\n",
    "#['yellow', 'green', 'red']\n",
    "\n",
    "#['yellow', 'green', 'red']\n",
    "#['green', 'red']\n",
    "\n",
    "#['green', 'red']\n",
    "#['red']\n",
    "\n",
    "#[]\n",
    "        \n"
   ]
  },
  {
   "cell_type": "code",
   "execution_count": 108,
   "id": "24adc5ad",
   "metadata": {},
   "outputs": [
    {
     "data": {
      "text/plain": [
       "{'apple': 'red',\n",
       " 'orange': 'orange',\n",
       " 'banana': 'yellow',\n",
       " 'lime': 'green',\n",
       " 'strawberry': 'red'}"
      ]
     },
     "execution_count": 108,
     "metadata": {},
     "output_type": "execute_result"
    }
   ],
   "source": [
    "empty_dictionary"
   ]
  },
  {
   "cell_type": "markdown",
   "id": "e466bbab",
   "metadata": {},
   "source": [
    "# Check if a specific key is in the dictionary"
   ]
  },
  {
   "cell_type": "code",
   "execution_count": 110,
   "id": "d5a2a0b4",
   "metadata": {},
   "outputs": [
    {
     "name": "stdout",
     "output_type": "stream",
     "text": [
      "{'brand': 'Ford', 'model': 'Mustang', 'year': 1964}\n"
     ]
    }
   ],
   "source": [
    "this_dict2 ={\n",
    "  \"brand\": \"Ford\",\n",
    "  \"model\": \"Mustang\",\n",
    "  \"year\": 1964\n",
    "}\n",
    "\n",
    "#this_dict2[\"year\"] = 2018\n",
    "\n",
    "print(this_dict2)"
   ]
  },
  {
   "cell_type": "code",
   "execution_count": null,
   "id": "78a0217b",
   "metadata": {},
   "outputs": [],
   "source": []
  },
  {
   "cell_type": "code",
   "execution_count": null,
   "id": "61e3de98",
   "metadata": {},
   "outputs": [],
   "source": [
    "i='tires'"
   ]
  },
  {
   "cell_type": "code",
   "execution_count": null,
   "id": "808b5e2d",
   "metadata": {},
   "outputs": [],
   "source": []
  },
  {
   "cell_type": "code",
   "execution_count": 111,
   "id": "cf6953da",
   "metadata": {},
   "outputs": [
    {
     "name": "stdout",
     "output_type": "stream",
     "text": [
      "Key is not Available in the Dictionary\n"
     ]
    }
   ],
   "source": [
    "if i in this_dict2:\n",
    "  print('Key is Available in the Dictionary')\n",
    "else:\n",
    "  print('Key is not Available in the Dictionary')"
   ]
  },
  {
   "cell_type": "code",
   "execution_count": null,
   "id": "3b0fa44d",
   "metadata": {},
   "outputs": [],
   "source": []
  },
  {
   "cell_type": "code",
   "execution_count": 113,
   "id": "627ef026",
   "metadata": {},
   "outputs": [],
   "source": [
    "this_dict2[\"tires\"]=\"rubber\""
   ]
  },
  {
   "cell_type": "code",
   "execution_count": 114,
   "id": "ea38677f",
   "metadata": {},
   "outputs": [],
   "source": [
    "i='tires'"
   ]
  },
  {
   "cell_type": "code",
   "execution_count": 117,
   "id": "cbb663a8",
   "metadata": {},
   "outputs": [
    {
     "name": "stdout",
     "output_type": "stream",
     "text": [
      "Key is Available in the Dictionary\n"
     ]
    }
   ],
   "source": [
    "if i in this_dict2:\n",
    "  print('Key is Available in the Dictionary')\n",
    "else:\n",
    "  print('Key is not Available in the Dictionary')"
   ]
  },
  {
   "cell_type": "code",
   "execution_count": null,
   "id": "21ecde92",
   "metadata": {},
   "outputs": [],
   "source": []
  },
  {
   "cell_type": "code",
   "execution_count": null,
   "id": "cd099000",
   "metadata": {},
   "outputs": [],
   "source": []
  },
  {
   "cell_type": "code",
   "execution_count": null,
   "id": "4176f41a",
   "metadata": {},
   "outputs": [],
   "source": []
  },
  {
   "cell_type": "markdown",
   "id": "2f5b89d7",
   "metadata": {},
   "source": [
    "# Combine 2 dictionaries"
   ]
  },
  {
   "cell_type": "code",
   "execution_count": 121,
   "id": "738fd5ef",
   "metadata": {},
   "outputs": [],
   "source": [
    "dict1 = {'Ten': 10, 'Twenty': 20, 'Thirty': 30}\n",
    "dict2 = {'Thirty': 30, 'Fourty': 40, 'Fifty': 50}"
   ]
  },
  {
   "cell_type": "code",
   "execution_count": 122,
   "id": "b5e96532",
   "metadata": {},
   "outputs": [
    {
     "name": "stdout",
     "output_type": "stream",
     "text": [
      "{'Ten': 10, 'Twenty': 20, 'Thirty': 30}\n"
     ]
    }
   ],
   "source": [
    "\n",
    "dict3 = dict1.copy()\n",
    "print(dict3)\n"
   ]
  },
  {
   "cell_type": "code",
   "execution_count": 123,
   "id": "4c601fc7",
   "metadata": {},
   "outputs": [
    {
     "name": "stdout",
     "output_type": "stream",
     "text": [
      "{'Ten': 10, 'Twenty': 20, 'Thirty': 30, 'Fourty': 40, 'Fifty': 50}\n"
     ]
    }
   ],
   "source": [
    "dict3.update(dict2)\n",
    "\n",
    "\n",
    "\n",
    "print(dict3)"
   ]
  },
  {
   "cell_type": "code",
   "execution_count": null,
   "id": "9c93ba30",
   "metadata": {},
   "outputs": [],
   "source": []
  },
  {
   "cell_type": "code",
   "execution_count": null,
   "id": "4d5718a7",
   "metadata": {},
   "outputs": [],
   "source": []
  },
  {
   "cell_type": "code",
   "execution_count": null,
   "id": "bd6a54de",
   "metadata": {},
   "outputs": [],
   "source": []
  },
  {
   "cell_type": "markdown",
   "id": "7c0167dd",
   "metadata": {},
   "source": [
    "## A single key with multiple values\n",
    "\n"
   ]
  },
  {
   "cell_type": "code",
   "execution_count": null,
   "id": "b46bb95f",
   "metadata": {},
   "outputs": [],
   "source": []
  },
  {
   "cell_type": "code",
   "execution_count": null,
   "id": "bbc6f6d0",
   "metadata": {},
   "outputs": [],
   "source": []
  },
  {
   "cell_type": "code",
   "execution_count": null,
   "id": "54bf79cf",
   "metadata": {},
   "outputs": [],
   "source": []
  },
  {
   "cell_type": "code",
   "execution_count": null,
   "id": "c5a0172b",
   "metadata": {},
   "outputs": [],
   "source": []
  },
  {
   "cell_type": "code",
   "execution_count": null,
   "id": "e7505ee5",
   "metadata": {},
   "outputs": [],
   "source": []
  },
  {
   "cell_type": "code",
   "execution_count": null,
   "id": "b411b7e4",
   "metadata": {},
   "outputs": [],
   "source": []
  },
  {
   "cell_type": "code",
   "execution_count": null,
   "id": "769596e6",
   "metadata": {},
   "outputs": [],
   "source": []
  }
 ],
 "metadata": {
  "kernelspec": {
   "display_name": "Python 3",
   "language": "python",
   "name": "python3"
  },
  "language_info": {
   "codemirror_mode": {
    "name": "ipython",
    "version": 3
   },
   "file_extension": ".py",
   "mimetype": "text/x-python",
   "name": "python",
   "nbconvert_exporter": "python",
   "pygments_lexer": "ipython3",
   "version": "3.8.8"
  }
 },
 "nbformat": 4,
 "nbformat_minor": 5
}
