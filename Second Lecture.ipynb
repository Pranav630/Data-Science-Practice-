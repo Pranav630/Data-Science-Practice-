{
 "cells": [
  {
   "cell_type": "code",
   "execution_count": 77,
   "id": "c4e9b83a",
   "metadata": {},
   "outputs": [],
   "source": [
    "import pandas as pd\n",
    "import numpy as np\n"
   ]
  },
  {
   "cell_type": "markdown",
   "id": "c16aae53",
   "metadata": {},
   "source": [
    "# Hashtag\n",
    "\n",
    "\n",
    "\n"
   ]
  },
  {
   "cell_type": "code",
   "execution_count": 95,
   "id": "f487f4c9",
   "metadata": {},
   "outputs": [
    {
     "name": "stdout",
     "output_type": "stream",
     "text": [
      "0\n",
      "1\n",
      "2\n",
      "3\n",
      "4\n",
      "5\n",
      "6\n",
      "7\n",
      "8\n",
      "9\n",
      "10\n",
      "11\n",
      "12\n",
      "13\n",
      "14\n",
      "15\n",
      "16\n",
      "17\n",
      "18\n",
      "19\n"
     ]
    }
   ],
   "source": [
    "#In this code I will use a for loop to print 0-9\n",
    "#\n",
    "for i in range(20):\n",
    "## we needed to change this value from 10 to 20 \n",
    "              print(i)\n",
    "\n"
   ]
  },
  {
   "cell_type": "markdown",
   "id": "c73d53c5",
   "metadata": {},
   "source": [
    "# Strings"
   ]
  },
  {
   "cell_type": "code",
   "execution_count": 79,
   "id": "7de5dddb",
   "metadata": {},
   "outputs": [],
   "source": [
    "x=\"strings have quotation marks or apostrophe marks on the outside\""
   ]
  },
  {
   "cell_type": "code",
   "execution_count": 80,
   "id": "ce72d32d",
   "metadata": {},
   "outputs": [
    {
     "data": {
      "text/plain": [
       "'strings have quotation marks or apostrophe marks on the outside'"
      ]
     },
     "execution_count": 80,
     "metadata": {},
     "output_type": "execute_result"
    }
   ],
   "source": [
    "x"
   ]
  },
  {
   "cell_type": "code",
   "execution_count": 81,
   "id": "4897b0aa",
   "metadata": {},
   "outputs": [
    {
     "name": "stdout",
     "output_type": "stream",
     "text": [
      "strings have quotation marks or apostrophe marks on the outside\n"
     ]
    }
   ],
   "source": [
    "print(x)"
   ]
  },
  {
   "cell_type": "code",
   "execution_count": 82,
   "id": "b67bd9c6",
   "metadata": {},
   "outputs": [],
   "source": [
    "#you can't do calculations on strings except for joining strings together:\n"
   ]
  },
  {
   "cell_type": "code",
   "execution_count": 69,
   "id": "e5301032",
   "metadata": {},
   "outputs": [],
   "source": [
    "string1='Vehicle'\n",
    "string2='Registration'"
   ]
  },
  {
   "cell_type": "code",
   "execution_count": 70,
   "id": "e9fe6c7f",
   "metadata": {},
   "outputs": [
    {
     "name": "stdout",
     "output_type": "stream",
     "text": [
      "Vehicle Registration\n"
     ]
    }
   ],
   "source": [
    "## in this cell I am working to concatenate both of these strings together as one string\n",
    "\n",
    "new_string=(string1 + \" \" + string2)\n",
    "print(new_string)"
   ]
  },
  {
   "cell_type": "markdown",
   "id": "ac4bb51a",
   "metadata": {},
   "source": [
    "# Boolean"
   ]
  },
  {
   "cell_type": "code",
   "execution_count": 71,
   "id": "b89423cd",
   "metadata": {
    "scrolled": true
   },
   "outputs": [
    {
     "name": "stdout",
     "output_type": "stream",
     "text": [
      "True\n"
     ]
    }
   ],
   "source": [
    "A = {1, 2, 8}\n",
    "B = {1,2,9,8,5}\n",
    "result = A.issubset(B)\n",
    "print(result)\n"
   ]
  },
  {
   "cell_type": "code",
   "execution_count": 73,
   "id": "7bef23d0",
   "metadata": {},
   "outputs": [
    {
     "data": {
      "text/plain": [
       "True"
      ]
     },
     "execution_count": 73,
     "metadata": {},
     "output_type": "execute_result"
    }
   ],
   "source": [
    "y==5"
   ]
  },
  {
   "cell_type": "markdown",
   "id": "f64dcb08",
   "metadata": {},
   "source": [
    "# AVINASH"
   ]
  },
  {
   "cell_type": "markdown",
   "id": "b0e5d982",
   "metadata": {},
   "source": [
    "# Concatenating strings"
   ]
  },
  {
   "cell_type": "code",
   "execution_count": 74,
   "id": "7104c5f8",
   "metadata": {},
   "outputs": [],
   "source": [
    "y = \"Matt\""
   ]
  },
  {
   "cell_type": "code",
   "execution_count": 75,
   "id": "de741bd7",
   "metadata": {},
   "outputs": [],
   "source": [
    "y=\"Matt\"\n",
    "x=5"
   ]
  },
  {
   "cell_type": "code",
   "execution_count": 76,
   "id": "3985951b",
   "metadata": {},
   "outputs": [
    {
     "ename": "TypeError",
     "evalue": "can only concatenate str (not \"int\") to str",
     "output_type": "error",
     "traceback": [
      "\u001b[0;31m---------------------------------------------------------------------------\u001b[0m",
      "\u001b[0;31mTypeError\u001b[0m                                 Traceback (most recent call last)",
      "\u001b[0;32m<ipython-input-76-d88c0f32bf52>\u001b[0m in \u001b[0;36m<module>\u001b[0;34m\u001b[0m\n\u001b[0;32m----> 1\u001b[0;31m \u001b[0mnew_string\u001b[0m\u001b[0;34m=\u001b[0m\u001b[0;34m(\u001b[0m\u001b[0my\u001b[0m \u001b[0;34m+\u001b[0m \u001b[0;34m\" \"\u001b[0m \u001b[0;34m+\u001b[0m \u001b[0mx\u001b[0m\u001b[0;34m)\u001b[0m\u001b[0;34m\u001b[0m\u001b[0;34m\u001b[0m\u001b[0m\n\u001b[0m\u001b[1;32m      2\u001b[0m \u001b[0mprint\u001b[0m\u001b[0;34m(\u001b[0m\u001b[0mnew_string\u001b[0m\u001b[0;34m)\u001b[0m\u001b[0;34m\u001b[0m\u001b[0;34m\u001b[0m\u001b[0m\n",
      "\u001b[0;31mTypeError\u001b[0m: can only concatenate str (not \"int\") to str"
     ]
    }
   ],
   "source": [
    "new_string=(y + \" \" + x)\n",
    "print(new_string)"
   ]
  },
  {
   "cell_type": "code",
   "execution_count": null,
   "id": "999379cd",
   "metadata": {},
   "outputs": [],
   "source": [
    "new_string=(y + \" \" + str(x))\n",
    "print(new_string)"
   ]
  },
  {
   "cell_type": "markdown",
   "id": "a5e7544d",
   "metadata": {},
   "source": [
    "# Indexing"
   ]
  },
  {
   "cell_type": "markdown",
   "id": "ad7e7be3",
   "metadata": {},
   "source": [
    "Matt 5\n",
    "012345"
   ]
  },
  {
   "cell_type": "code",
   "execution_count": null,
   "id": "88ac228a",
   "metadata": {},
   "outputs": [],
   "source": [
    "new_string=\"abcdefjhijklmnopqrstuvwxyzasdfnasjkfdhasjdkfaskjfhasjkfhaksjfjhhaskdjfhsmatt\""
   ]
  },
  {
   "cell_type": "code",
   "execution_count": null,
   "id": "c06f4324",
   "metadata": {},
   "outputs": [],
   "source": [
    "new_string[-2]"
   ]
  },
  {
   "cell_type": "code",
   "execution_count": null,
   "id": "e443ed49",
   "metadata": {},
   "outputs": [],
   "source": [
    "new_string[1]"
   ]
  },
  {
   "cell_type": "code",
   "execution_count": null,
   "id": "1efc0a9e",
   "metadata": {},
   "outputs": [],
   "source": [
    "new_string[2]"
   ]
  },
  {
   "cell_type": "code",
   "execution_count": null,
   "id": "ee666c38",
   "metadata": {},
   "outputs": [],
   "source": [
    "new_string[-3]\n"
   ]
  },
  {
   "cell_type": "code",
   "execution_count": null,
   "id": "c808d115",
   "metadata": {},
   "outputs": [],
   "source": [
    "new_string='Turan'"
   ]
  },
  {
   "cell_type": "code",
   "execution_count": 86,
   "id": "0dce3dcd",
   "metadata": {},
   "outputs": [
    {
     "data": {
      "text/plain": [
       "'Turan'"
      ]
     },
     "execution_count": 86,
     "metadata": {},
     "output_type": "execute_result"
    }
   ],
   "source": [
    "new_string='Turan'\n",
    "new_string[0:5]"
   ]
  },
  {
   "cell_type": "markdown",
   "id": "d2dbec5a",
   "metadata": {},
   "source": [
    "# Slicing"
   ]
  },
  {
   "cell_type": "code",
   "execution_count": null,
   "id": "82ba7684",
   "metadata": {},
   "outputs": [],
   "source": [
    "new_string[5:15]"
   ]
  },
  {
   "cell_type": "code",
   "execution_count": null,
   "id": "3f3f2b24",
   "metadata": {},
   "outputs": [],
   "source": []
  },
  {
   "cell_type": "markdown",
   "id": "9bc79cf0",
   "metadata": {},
   "source": [
    "# INPUT and Integers"
   ]
  },
  {
   "cell_type": "code",
   "execution_count": 96,
   "id": "e86f8044",
   "metadata": {},
   "outputs": [
    {
     "name": "stdout",
     "output_type": "stream",
     "text": [
      "What is your name? Matt\n"
     ]
    }
   ],
   "source": [
    "x=input(\"What is your name? \")"
   ]
  },
  {
   "cell_type": "code",
   "execution_count": 97,
   "id": "af7005f6",
   "metadata": {},
   "outputs": [
    {
     "name": "stdout",
     "output_type": "stream",
     "text": [
      "Matt\n"
     ]
    }
   ],
   "source": [
    "print(x)"
   ]
  },
  {
   "cell_type": "code",
   "execution_count": 98,
   "id": "ef0c1ec9",
   "metadata": {},
   "outputs": [],
   "source": [
    "## Troublshooting"
   ]
  },
  {
   "cell_type": "code",
   "execution_count": 108,
   "id": "c2cde83e",
   "metadata": {},
   "outputs": [
    {
     "name": "stdout",
     "output_type": "stream",
     "text": [
      "How old are you?27\n"
     ]
    }
   ],
   "source": [
    "f=input(\"How old are you?\")"
   ]
  },
  {
   "cell_type": "code",
   "execution_count": 111,
   "id": "56bc345e",
   "metadata": {},
   "outputs": [],
   "source": [
    "# How old will you be in 5 years\n",
    "z=int(f)+5"
   ]
  },
  {
   "cell_type": "code",
   "execution_count": 112,
   "id": "bd6bf1bc",
   "metadata": {},
   "outputs": [
    {
     "data": {
      "text/plain": [
       "32"
      ]
     },
     "execution_count": 112,
     "metadata": {},
     "output_type": "execute_result"
    }
   ],
   "source": [
    "z"
   ]
  },
  {
   "cell_type": "markdown",
   "id": "4489d544",
   "metadata": {},
   "source": [
    "# Interactive project"
   ]
  },
  {
   "cell_type": "code",
   "execution_count": 26,
   "id": "0152f369",
   "metadata": {},
   "outputs": [],
   "source": [
    "import random as rd"
   ]
  },
  {
   "cell_type": "code",
   "execution_count": 27,
   "id": "028f3ba0",
   "metadata": {},
   "outputs": [],
   "source": [
    "rd.seed(30)"
   ]
  },
  {
   "cell_type": "code",
   "execution_count": 28,
   "id": "c031ce7e",
   "metadata": {},
   "outputs": [],
   "source": [
    "number = rd.randint(1,10)"
   ]
  },
  {
   "cell_type": "code",
   "execution_count": 29,
   "id": "dde8f0f1",
   "metadata": {},
   "outputs": [],
   "source": [
    "guess =None"
   ]
  },
  {
   "cell_type": "code",
   "execution_count": 30,
   "id": "6bd6e729",
   "metadata": {},
   "outputs": [
    {
     "name": "stdout",
     "output_type": "stream",
     "text": [
      "Guess a number between 1-10: 9\n",
      "Congratulations - you guessed it!\n"
     ]
    }
   ],
   "source": [
    "while guess != number:\n",
    "    guess = input('Guess a number between 1-10: ')\n",
    "    guess=int(guess)\n",
    "    \n",
    "    if guess == number:\n",
    "        print(\"Congratulations - you guessed it!\")\n",
    "    else:\n",
    "        print(\"No-try again!\")\n",
    "            \n",
    "    "
   ]
  },
  {
   "cell_type": "code",
   "execution_count": null,
   "id": "40b5f594",
   "metadata": {},
   "outputs": [],
   "source": []
  },
  {
   "cell_type": "code",
   "execution_count": null,
   "id": "38e09a09",
   "metadata": {},
   "outputs": [],
   "source": []
  },
  {
   "cell_type": "code",
   "execution_count": null,
   "id": "5136b97f",
   "metadata": {},
   "outputs": [],
   "source": []
  },
  {
   "cell_type": "code",
   "execution_count": null,
   "id": "a521c75b",
   "metadata": {},
   "outputs": [],
   "source": []
  },
  {
   "cell_type": "code",
   "execution_count": null,
   "id": "cf75a104",
   "metadata": {},
   "outputs": [],
   "source": []
  },
  {
   "cell_type": "code",
   "execution_count": null,
   "id": "a2650be0",
   "metadata": {},
   "outputs": [],
   "source": []
  }
 ],
 "metadata": {
  "kernelspec": {
   "display_name": "Python 3",
   "language": "python",
   "name": "python3"
  },
  "language_info": {
   "codemirror_mode": {
    "name": "ipython",
    "version": 3
   },
   "file_extension": ".py",
   "mimetype": "text/x-python",
   "name": "python",
   "nbconvert_exporter": "python",
   "pygments_lexer": "ipython3",
   "version": "3.8.8"
  }
 },
 "nbformat": 4,
 "nbformat_minor": 5
}
